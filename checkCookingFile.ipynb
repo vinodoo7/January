{
 "cells": [
  {
   "cell_type": "code",
   "execution_count": 2,
   "metadata": {},
   "outputs": [
    {
     "name": "stdout",
     "output_type": "stream",
     "text": [
      "success\n"
     ]
    }
   ],
   "source": [
    "import csv\n",
    "oops = 0\n",
    "with open('output.csv') as csv_file:\n",
    "    csv_reader = csv.reader(csv_file, delimiter=',')\n",
    "    header = next(csv_reader)\n",
    "    if(header[0]!='id' or header[1]!='cuisine'):\n",
    "        print('unexpected header')\n",
    "        oops+=1\n",
    "    count = 0\n",
    "    for row in csv_reader:\n",
    "        count+=1\n",
    "if(count != 7955):\n",
    "    print('expected 7955 results')\n",
    "    oops+=1\n",
    "if (str(row[0])!='905668'):\n",
    "    print('first entry of last row should be 905668')\n",
    "    oops+=1\n",
    "    \n",
    "if (oops == 0):\n",
    "    print('success')"
   ]
  },
  {
   "cell_type": "code",
   "execution_count": null,
   "metadata": {},
   "outputs": [],
   "source": []
  },
  {
   "cell_type": "code",
   "execution_count": null,
   "metadata": {},
   "outputs": [],
   "source": []
  }
 ],
 "metadata": {
  "kernelspec": {
   "display_name": "Python 3",
   "language": "python",
   "name": "python3"
  },
  "language_info": {
   "codemirror_mode": {
    "name": "ipython",
    "version": 3
   },
   "file_extension": ".py",
   "mimetype": "text/x-python",
   "name": "python",
   "nbconvert_exporter": "python",
   "pygments_lexer": "ipython3",
   "version": "3.8.5"
  }
 },
 "nbformat": 4,
 "nbformat_minor": 4
}
